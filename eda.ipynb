{
 "cells": [
  {
   "cell_type": "code",
   "execution_count": 1,
   "metadata": {},
   "outputs": [
    {
     "name": "stdout",
     "output_type": "stream",
     "text": [
      "<class 'pandas.core.frame.DataFrame'>\n",
      "RangeIndex: 181241 entries, 0 to 181240\n",
      "Data columns (total 8 columns):\n",
      " #   Column             Non-Null Count   Dtype \n",
      "---  ------             --------------   ----- \n",
      " 0   PATIENTID          181241 non-null  int64 \n",
      " 1   GENDER             181241 non-null  int64 \n",
      " 2   ETHNICITY          178646 non-null  object\n",
      " 3   DECEASED           181241 non-null  object\n",
      " 4   DEATHCAUSECODE_1A  31989 non-null   object\n",
      " 5   DEATHLOCATIONCODE  31984 non-null   object\n",
      " 6   VITALSTATUS        181241 non-null  object\n",
      " 7   VITALSTATUSDATE    181210 non-null  object\n",
      "dtypes: int64(2), object(6)\n",
      "memory usage: 11.1+ MB\n"
     ]
    },
    {
     "data": {
      "text/plain": [
       "(   PATIENTID  GENDER ETHNICITY DECEASED DEATHCAUSECODE_1A DEATHLOCATIONCODE  \\\n",
       " 0   10273711       1       NaN        N               NaN               NaN   \n",
       " 1   10275818       1         A        Y              K566                 4   \n",
       " 2   10276182       1         A        Y              J189                 1   \n",
       " 3   10277943       1         A        N               NaN               NaN   \n",
       " 4   10279280       1         A        Y               C19                 4   \n",
       " \n",
       "   VITALSTATUS VITALSTATUSDATE  \n",
       " 0           A        5/7/2022  \n",
       " 1           D      20/10/2021  \n",
       " 2           D       18/7/2020  \n",
       " 3           A        5/7/2022  \n",
       " 4           D       31/7/2022  ,\n",
       " None)"
      ]
     },
     "execution_count": 1,
     "metadata": {},
     "output_type": "execute_result"
    }
   ],
   "source": [
    "import pandas as pd\n",
    "\n",
    "# Load the datasets\n",
    "patients_df = pd.read_csv('data/Patients.csv')\n",
    "\n",
    "# Display the first few rows of the dataset\n",
    "patients_df.head(), patients_df.info()\n"
   ]
  }
 ],
 "metadata": {
  "kernelspec": {
   "display_name": "mlunit",
   "language": "python",
   "name": "python3"
  },
  "language_info": {
   "codemirror_mode": {
    "name": "ipython",
    "version": 3
   },
   "file_extension": ".py",
   "mimetype": "text/x-python",
   "name": "python",
   "nbconvert_exporter": "python",
   "pygments_lexer": "ipython3",
   "version": "3.9.13"
  }
 },
 "nbformat": 4,
 "nbformat_minor": 2
}
